{
 "cells": [
  {
   "cell_type": "code",
   "execution_count": 1,
   "metadata": {},
   "outputs": [
    {
     "name": "stdout",
     "output_type": "stream",
     "text": [
      "Extracting MNIST_data/train-images-idx3-ubyte.gz\n",
      "Extracting MNIST_data/train-labels-idx1-ubyte.gz\n",
      "Extracting MNIST_data/t10k-images-idx3-ubyte.gz\n",
      "Extracting MNIST_data/t10k-labels-idx1-ubyte.gz\n"
     ]
    }
   ],
   "source": [
    "import tensorflow as tf\n",
    "from tensorflow.examples.tutorials.mnist import input_data\n",
    "#载入数据\n",
    "mnist = input_data.read_data_sets(\"MNIST_data/\",one_hot=True)\n",
    "#清空默认图，使jupyter可重复调试\n",
    "tf.reset_default_graph()"
   ]
  },
  {
   "cell_type": "code",
   "execution_count": 2,
   "metadata": {},
   "outputs": [],
   "source": [
    "n_input = 28\n",
    "max_time = 28\n",
    "#隐层个数\n",
    "lstm_size = 100\n",
    "#输出序列长度\n",
    "n_class = 10\n",
    "#每批样本数\n",
    "batch_size = 80\n",
    "#批次\n",
    "n_batch_size = mnist.train.num_examples // batch_size"
   ]
  },
  {
   "cell_type": "code",
   "execution_count": 3,
   "metadata": {},
   "outputs": [],
   "source": [
    "#创建占位符\n",
    "x = tf.placeholder(tf.float32,[None,28*28])\n",
    "y = tf.placeholder(tf.float32,[None,10])"
   ]
  },
  {
   "cell_type": "code",
   "execution_count": 4,
   "metadata": {},
   "outputs": [],
   "source": [
    "#初始化权重\n",
    "weight = tf.Variable(tf.truncated_normal([lstm_size,n_class],stddev = 0.1))\n",
    "#初始化偏置\n",
    "biases = tf.Variable(tf.constant(0.1,shape=[n_class]))"
   ]
  },
  {
   "cell_type": "code",
   "execution_count": 5,
   "metadata": {},
   "outputs": [],
   "source": [
    "#rnn网络结构\n",
    "def rnn(X,weights,biases):\n",
    "    #原始数据的shape为[batch_size,28*28]\n",
    "    #input = [batch_size, max_time, n_input]\n",
    "    input_ = tf.reshape(X,[-1,max_time,n_input])\n",
    "    # 定义LSTM的基本单元\n",
    "    lstm_cell = tf.contrib.rnn.BasicLSTMCell(lstm_size)\n",
    "    #执行多步\n",
    "    # final_state[0] 是cell state\n",
    "    # final_state[1] 是hidden stat\n",
    "    outputs,final_state = tf.nn.dynamic_rnn(lstm_cell,input_,dtype=tf.float32)\n",
    "    results = tf.nn.softmax(tf.matmul(final_state[1],weights)+biases,1)\n",
    "    return results"
   ]
  },
  {
   "cell_type": "code",
   "execution_count": 6,
   "metadata": {},
   "outputs": [],
   "source": [
    "\n",
    "prediction = rnn(x,weight,biases)\n",
    "loss = tf.reduce_mean(tf.nn.softmax_cross_entropy_with_logits(logits=prediction,labels=y))\n",
    "train_step = tf.train.AdamOptimizer(1e-4).minimize(loss)\n",
    "correct_prediction = tf.equal(tf.argmax(y,1),tf.argmax(prediction,1))\n",
    "accuracy = tf.reduce_mean(tf.cast(correct_prediction,tf.float32))\n"
   ]
  },
  {
   "cell_type": "code",
   "execution_count": 7,
   "metadata": {},
   "outputs": [
    {
     "name": "stdout",
     "output_type": "stream",
     "text": [
      "0/687\n",
      "100/687\n",
      "200/687\n",
      "300/687\n",
      "400/687\n",
      "500/687\n",
      "600/687\n",
      "Iter0 ,Testing Accuracy = 0.6433\n",
      "0/687\n",
      "100/687\n",
      "200/687\n",
      "300/687\n",
      "400/687\n",
      "500/687\n",
      "600/687\n",
      "Iter1 ,Testing Accuracy = 0.7268\n",
      "0/687\n",
      "100/687\n",
      "200/687\n",
      "300/687\n",
      "400/687\n",
      "500/687\n",
      "600/687\n",
      "Iter2 ,Testing Accuracy = 0.8154\n",
      "0/687\n",
      "100/687\n",
      "200/687\n",
      "300/687\n",
      "400/687\n",
      "500/687\n",
      "600/687\n",
      "Iter3 ,Testing Accuracy = 0.8322\n",
      "0/687\n",
      "100/687\n",
      "200/687\n",
      "300/687\n",
      "400/687\n",
      "500/687\n",
      "600/687\n",
      "Iter4 ,Testing Accuracy = 0.9003\n",
      "0/687\n",
      "100/687\n",
      "200/687\n",
      "300/687\n",
      "400/687\n",
      "500/687\n",
      "600/687\n",
      "Iter5 ,Testing Accuracy = 0.919\n"
     ]
    }
   ],
   "source": [
    "init = tf.global_variables_initializer()\n",
    "with tf.Session() as sess:\n",
    "    sess.run(init)\n",
    "    for epoch in range(6):\n",
    "        for batch in range(n_batch_size):\n",
    "            batch_xs,batch_ys = mnist.train.next_batch(batch_size)\n",
    "            sess.run(train_step, feed_dict={x: batch_xs,y: batch_ys})\n",
    "            if(batch%100==0):\n",
    "                print(str(batch)+\"/\" + str(n_batch_size))\n",
    "        acc = sess.run(accuracy, feed_dict={x: mnist.test.images, y: mnist.test.labels})\n",
    "        print(\"Iter\" + str(epoch) + \" ,Testing Accuracy = \" + str(acc))"
   ]
  },
  {
   "cell_type": "code",
   "execution_count": null,
   "metadata": {},
   "outputs": [],
   "source": []
  }
 ],
 "metadata": {
  "kernelspec": {
   "display_name": "Python [conda env:python35]",
   "language": "python",
   "name": "conda-env-python35-py"
  },
  "language_info": {
   "codemirror_mode": {
    "name": "ipython",
    "version": 3
   },
   "file_extension": ".py",
   "mimetype": "text/x-python",
   "name": "python",
   "nbconvert_exporter": "python",
   "pygments_lexer": "ipython3",
   "version": "3.5.0"
  }
 },
 "nbformat": 4,
 "nbformat_minor": 2
}
