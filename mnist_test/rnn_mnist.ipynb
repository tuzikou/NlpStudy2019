{
 "cells": [
  {
   "cell_type": "code",
   "execution_count": 1,
   "metadata": {},
   "outputs": [
    {
     "name": "stdout",
     "output_type": "stream",
     "text": [
      "Extracting MNIST_data/train-images-idx3-ubyte.gz\n",
      "Extracting MNIST_data/train-labels-idx1-ubyte.gz\n",
      "Extracting MNIST_data/t10k-images-idx3-ubyte.gz\n",
      "Extracting MNIST_data/t10k-labels-idx1-ubyte.gz\n"
     ]
    }
   ],
   "source": [
    "import tensorflow as tf\n",
    "from tensorflow.examples.tutorials.mnist import input_data\n",
    "mnist = input_data.read_data_sets(\"MNIST_data/\",one_hot=True)\n",
    "tf.reset_default_graph()"
   ]
  },
  {
   "cell_type": "code",
   "execution_count": 2,
   "metadata": {},
   "outputs": [],
   "source": [
    "n_input = 28\n",
    "max_time = 28\n",
    "#隐层个数\n",
    "lstm_size = 100\n",
    "n_class = 10\n",
    "batch_size = 50\n",
    "n_batch_size = mnist.train.num_examples // batch_size"
   ]
  },
  {
   "cell_type": "code",
   "execution_count": 3,
   "metadata": {},
   "outputs": [],
   "source": [
    "x = tf.placeholder(tf.float32,[None,28*28])\n",
    "y = tf.placeholder(tf.float32,[None,10])"
   ]
  },
  {
   "cell_type": "code",
   "execution_count": 4,
   "metadata": {},
   "outputs": [],
   "source": [
    "weight = tf.Variable(tf.truncated_normal([lstm_size,n_class],stddev = 0.1))\n",
    "biases = tf.Variable(tf.constant(0.1,shape=[n_class]))"
   ]
  },
  {
   "cell_type": "code",
   "execution_count": 5,
   "metadata": {},
   "outputs": [],
   "source": [
    "def rnn(X,weights,biases):\n",
    "    input_ = tf.reshape(X,[-1,max_time,n_input])\n",
    "    lstm_cell = tf.contrib.rnn.BasicLSTMCell(lstm_size)\n",
    "\n",
    "    outputs,final_state = tf.nn.dynamic_rnn(lstm_cell,input_,dtype=tf.float32)\n",
    "    \n",
    "    results = tf.nn.softmax(tf.matmul(final_state[1],weights)+biases,1)\n",
    "    return results"
   ]
  },
  {
   "cell_type": "code",
   "execution_count": 6,
   "metadata": {},
   "outputs": [],
   "source": [
    "\n",
    "prediction = rnn(x,weight,biases)\n",
    "loss = tf.reduce_mean(tf.nn.softmax_cross_entropy_with_logits(logits=prediction,labels=y))\n",
    "train_step = tf.train.AdamOptimizer(1e-4).minimize(loss)\n",
    "correct_prediction = tf.equal(tf.argmax(y,1),tf.argmax(prediction,1))\n",
    "accuracy = tf.reduce_mean(tf.cast(correct_prediction,tf.float32))\n"
   ]
  },
  {
   "cell_type": "code",
   "execution_count": 7,
   "metadata": {},
   "outputs": [
    {
     "name": "stdout",
     "output_type": "stream",
     "text": [
      "0/1100\n",
      "100/1100\n",
      "200/1100\n",
      "300/1100\n",
      "400/1100\n",
      "500/1100\n",
      "600/1100\n",
      "700/1100\n",
      "800/1100\n",
      "900/1100\n",
      "1000/1100\n",
      "Iter0 ,Testing Accuracy = 0.7521\n",
      "0/1100\n",
      "100/1100\n",
      "200/1100\n",
      "300/1100\n",
      "400/1100\n",
      "500/1100\n",
      "600/1100\n",
      "700/1100\n",
      "800/1100\n",
      "900/1100\n",
      "1000/1100\n",
      "Iter1 ,Testing Accuracy = 0.8091\n",
      "0/1100\n",
      "100/1100\n",
      "200/1100\n",
      "300/1100\n",
      "400/1100\n",
      "500/1100\n",
      "600/1100\n",
      "700/1100\n",
      "800/1100\n",
      "900/1100\n",
      "1000/1100\n",
      "Iter2 ,Testing Accuracy = 0.8918\n",
      "0/1100\n",
      "100/1100\n",
      "200/1100\n",
      "300/1100\n",
      "400/1100\n",
      "500/1100\n",
      "600/1100\n",
      "700/1100\n",
      "800/1100\n",
      "900/1100\n",
      "1000/1100\n",
      "Iter3 ,Testing Accuracy = 0.9078\n",
      "0/1100\n",
      "100/1100\n",
      "200/1100\n",
      "300/1100\n",
      "400/1100\n",
      "500/1100\n",
      "600/1100\n",
      "700/1100\n",
      "800/1100\n",
      "900/1100\n",
      "1000/1100\n",
      "Iter4 ,Testing Accuracy = 0.9236\n",
      "0/1100\n",
      "100/1100\n",
      "200/1100\n",
      "300/1100\n",
      "400/1100\n",
      "500/1100\n",
      "600/1100\n",
      "700/1100\n",
      "800/1100\n",
      "900/1100\n",
      "1000/1100\n",
      "Iter5 ,Testing Accuracy = 0.9239\n"
     ]
    }
   ],
   "source": [
    "init = tf.global_variables_initializer()\n",
    "with tf.Session() as sess:\n",
    "    sess.run(init)\n",
    "    for epoch in range(6):\n",
    "        for batch in range(n_batch_size):\n",
    "            batch_xs,batch_ys = mnist.train.next_batch(batch_size)\n",
    "            sess.run(train_step, feed_dict={x: batch_xs,y: batch_ys})\n",
    "            if(batch%100==0):\n",
    "                print(str(batch)+\"/\" + str(n_batch_size))\n",
    "        acc = sess.run(accuracy, feed_dict={x: mnist.test.images, y: mnist.test.labels})\n",
    "        print(\"Iter\" + str(epoch) + \" ,Testing Accuracy = \" + str(acc))"
   ]
  },
  {
   "cell_type": "code",
   "execution_count": null,
   "metadata": {},
   "outputs": [],
   "source": []
  }
 ],
 "metadata": {
  "kernelspec": {
   "display_name": "Python [conda env:python35]",
   "language": "python",
   "name": "conda-env-python35-py"
  },
  "language_info": {
   "codemirror_mode": {
    "name": "ipython",
    "version": 3
   },
   "file_extension": ".py",
   "mimetype": "text/x-python",
   "name": "python",
   "nbconvert_exporter": "python",
   "pygments_lexer": "ipython3",
   "version": "3.5.0"
  }
 },
 "nbformat": 4,
 "nbformat_minor": 2
}
